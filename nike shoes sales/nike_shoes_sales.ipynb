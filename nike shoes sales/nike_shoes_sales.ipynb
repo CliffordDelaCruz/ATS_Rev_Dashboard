{
 "cells": [
  {
   "cell_type": "markdown",
   "id": "ccad4964",
   "metadata": {},
   "source": [
    "# Nike Shoes Sales Data Analysis  \n",
    "### Problem Statement\n",
    "The purpose of this data analysis is to check the data, and conduct data preparation and cleaning."
   ]
  },
  {
   "cell_type": "code",
   "execution_count": 1,
   "id": "6d225288",
   "metadata": {},
   "outputs": [],
   "source": [
    "import pandas as pd"
   ]
  },
  {
   "cell_type": "code",
   "execution_count": 3,
   "id": "405b3d87",
   "metadata": {},
   "outputs": [],
   "source": [
    "#load CSV in a DataFrame.\n",
    "df = pd.read_csv('nike_shoes_sales.csv')"
   ]
  },
  {
   "cell_type": "code",
   "execution_count": 5,
   "id": "1f8337c0",
   "metadata": {},
   "outputs": [
    {
     "name": "stdout",
     "output_type": "stream",
     "text": [
      "<class 'pandas.core.frame.DataFrame'>\n",
      "RangeIndex: 643 entries, 0 to 642\n",
      "Data columns (total 10 columns):\n",
      " #   Column         Non-Null Count  Dtype  \n",
      "---  ------         --------------  -----  \n",
      " 0   product_name   643 non-null    object \n",
      " 1   product_id     643 non-null    object \n",
      " 2   listing_price  643 non-null    int64  \n",
      " 3   sale_price     643 non-null    int64  \n",
      " 4   discount       643 non-null    int64  \n",
      " 5   brand          643 non-null    object \n",
      " 6   description    640 non-null    object \n",
      " 7   rating         643 non-null    float64\n",
      " 8   reviews        643 non-null    int64  \n",
      " 9   images         572 non-null    object \n",
      "dtypes: float64(1), int64(4), object(5)\n",
      "memory usage: 50.4+ KB\n"
     ]
    }
   ],
   "source": [
    "#get information about the CSV file\n",
    "df.info()"
   ]
  },
  {
   "cell_type": "code",
   "execution_count": 4,
   "id": "ca975506",
   "metadata": {},
   "outputs": [
    {
     "data": {
      "text/html": [
       "<div>\n",
       "<style scoped>\n",
       "    .dataframe tbody tr th:only-of-type {\n",
       "        vertical-align: middle;\n",
       "    }\n",
       "\n",
       "    .dataframe tbody tr th {\n",
       "        vertical-align: top;\n",
       "    }\n",
       "\n",
       "    .dataframe thead th {\n",
       "        text-align: right;\n",
       "    }\n",
       "</style>\n",
       "<table border=\"1\" class=\"dataframe\">\n",
       "  <thead>\n",
       "    <tr style=\"text-align: right;\">\n",
       "      <th></th>\n",
       "      <th>product_name</th>\n",
       "      <th>product_id</th>\n",
       "      <th>listing_price</th>\n",
       "      <th>sale_price</th>\n",
       "      <th>discount</th>\n",
       "      <th>brand</th>\n",
       "      <th>description</th>\n",
       "      <th>rating</th>\n",
       "      <th>reviews</th>\n",
       "      <th>images</th>\n",
       "    </tr>\n",
       "  </thead>\n",
       "  <tbody>\n",
       "    <tr>\n",
       "      <th>0</th>\n",
       "      <td>Nike Air Force 1 '07 Essential</td>\n",
       "      <td>CJ1646-600</td>\n",
       "      <td>0</td>\n",
       "      <td>7495</td>\n",
       "      <td>0</td>\n",
       "      <td>Nike</td>\n",
       "      <td>Let your shoe game shimmer in the Nike Air For...</td>\n",
       "      <td>0.0</td>\n",
       "      <td>0</td>\n",
       "      <td>[\"https://static.nike.com/a/images/t_PDP_1728_...</td>\n",
       "    </tr>\n",
       "    <tr>\n",
       "      <th>1</th>\n",
       "      <td>Nike Air Force 1 '07</td>\n",
       "      <td>CT4328-101</td>\n",
       "      <td>0</td>\n",
       "      <td>7495</td>\n",
       "      <td>0</td>\n",
       "      <td>Nike</td>\n",
       "      <td>The legend lives on in the Nike Air Force 1 '0...</td>\n",
       "      <td>0.0</td>\n",
       "      <td>0</td>\n",
       "      <td>[\"https://static.nike.com/a/images/t_PDP_1728_...</td>\n",
       "    </tr>\n",
       "    <tr>\n",
       "      <th>2</th>\n",
       "      <td>Nike Air Force 1 Sage Low LX</td>\n",
       "      <td>CI3482-200</td>\n",
       "      <td>0</td>\n",
       "      <td>9995</td>\n",
       "      <td>0</td>\n",
       "      <td>Nike</td>\n",
       "      <td>Taking both height and craft to new levels, th...</td>\n",
       "      <td>0.0</td>\n",
       "      <td>0</td>\n",
       "      <td>[\"https://static.nike.com/a/images/t_PDP_1728_...</td>\n",
       "    </tr>\n",
       "    <tr>\n",
       "      <th>3</th>\n",
       "      <td>Nike Air Max Dia SE</td>\n",
       "      <td>CD0479-200</td>\n",
       "      <td>0</td>\n",
       "      <td>9995</td>\n",
       "      <td>0</td>\n",
       "      <td>Nike</td>\n",
       "      <td>Designed for a woman's foot, the Nike Air Max ...</td>\n",
       "      <td>0.0</td>\n",
       "      <td>0</td>\n",
       "      <td>[\"https://static.nike.com/a/images/t_PDP_1728_...</td>\n",
       "    </tr>\n",
       "    <tr>\n",
       "      <th>4</th>\n",
       "      <td>Nike Air Max Verona</td>\n",
       "      <td>CZ6156-101</td>\n",
       "      <td>0</td>\n",
       "      <td>9995</td>\n",
       "      <td>0</td>\n",
       "      <td>Nike</td>\n",
       "      <td>Pass on the good vibes in the Nike Air Max Ver...</td>\n",
       "      <td>0.0</td>\n",
       "      <td>0</td>\n",
       "      <td>[\"https://static.nike.com/a/images/t_PDP_1728_...</td>\n",
       "    </tr>\n",
       "  </tbody>\n",
       "</table>\n",
       "</div>"
      ],
      "text/plain": [
       "                     product_name  product_id  listing_price  sale_price  \\\n",
       "0  Nike Air Force 1 '07 Essential  CJ1646-600              0        7495   \n",
       "1            Nike Air Force 1 '07  CT4328-101              0        7495   \n",
       "2    Nike Air Force 1 Sage Low LX  CI3482-200              0        9995   \n",
       "3             Nike Air Max Dia SE  CD0479-200              0        9995   \n",
       "4             Nike Air Max Verona  CZ6156-101              0        9995   \n",
       "\n",
       "   discount brand                                        description  rating  \\\n",
       "0         0  Nike  Let your shoe game shimmer in the Nike Air For...     0.0   \n",
       "1         0  Nike  The legend lives on in the Nike Air Force 1 '0...     0.0   \n",
       "2         0  Nike  Taking both height and craft to new levels, th...     0.0   \n",
       "3         0  Nike  Designed for a woman's foot, the Nike Air Max ...     0.0   \n",
       "4         0  Nike  Pass on the good vibes in the Nike Air Max Ver...     0.0   \n",
       "\n",
       "   reviews                                             images  \n",
       "0        0  [\"https://static.nike.com/a/images/t_PDP_1728_...  \n",
       "1        0  [\"https://static.nike.com/a/images/t_PDP_1728_...  \n",
       "2        0  [\"https://static.nike.com/a/images/t_PDP_1728_...  \n",
       "3        0  [\"https://static.nike.com/a/images/t_PDP_1728_...  \n",
       "4        0  [\"https://static.nike.com/a/images/t_PDP_1728_...  "
      ]
     },
     "execution_count": 4,
     "metadata": {},
     "output_type": "execute_result"
    }
   ],
   "source": [
    "#display first 5 rows\n",
    "df.head(5)"
   ]
  },
  {
   "cell_type": "markdown",
   "id": "ae7f367a",
   "metadata": {},
   "source": [
    "According to df.info, there are 643 records, however some rows to not have description and image URL  \n",
    "No description - 3 records  \n",
    "No image - 71 records"
   ]
  },
  {
   "cell_type": "code",
   "execution_count": 8,
   "id": "8e81e2f5",
   "metadata": {},
   "outputs": [
    {
     "name": "stdout",
     "output_type": "stream",
     "text": [
      "                        product_name  product_id  listing_price  sale_price  \\\n",
      "155  Nike React Infinity Run Flyknit  CD4371-001              0       13995   \n",
      "263  Nike React Infinity Run Flyknit  CD4372-004              0       13995   \n",
      "508             Nike Free X Metcon 2  CD8526-446              0        9995   \n",
      "\n",
      "     discount brand description  rating  reviews  \\\n",
      "155         0  Nike         NaN     4.6       68   \n",
      "263         0  Nike         NaN     4.2       29   \n",
      "508         0  Nike         NaN     3.0        7   \n",
      "\n",
      "                                                images  \n",
      "155  [\"https://static.nike.com/a/images/t_PDP_1728_...  \n",
      "263  [\"https://static.nike.com/a/images/t_PDP_1728_...  \n",
      "508  [\"https://static.nike.com/a/images/t_PDP_1728_...  \n"
     ]
    }
   ],
   "source": [
    "descnan = df[df.description.isnull()]\n",
    "print(descnan)"
   ]
  },
  {
   "cell_type": "code",
   "execution_count": 10,
   "id": "aafacd07",
   "metadata": {},
   "outputs": [
    {
     "name": "stdout",
     "output_type": "stream",
     "text": [
      "                             product_name  product_id  listing_price  \\\n",
      "7                      Nike Free Metcon 3  CJ0861-017              0   \n",
      "21                     Nike SB Bruin High  923112-001           7995   \n",
      "30                           Jordan Break  AR6374-402              0   \n",
      "36               Nike Air Force 1 '07 LV8  CD0888-002              0   \n",
      "38                       Nike Air Max Dia  CJ0636-100              0   \n",
      "..                                    ...         ...            ...   \n",
      "606                      Nike Air Max 720  AR9293-603          15995   \n",
      "622               Nike Air Force 1 '07 SE  CI3446-001              0   \n",
      "634    Nike Mercurial Vapor 13 Academy IC  AT7993-414           7495   \n",
      "639            Nike Phantom Venom Club IC  AO0578-717           4995   \n",
      "640  Nike Mercurial Superfly 7 Academy TF  AT7978-414           8495   \n",
      "\n",
      "     sale_price  discount brand  \\\n",
      "7          9995         0  Nike   \n",
      "21         5597         0  Nike   \n",
      "30         1995         0  Nike   \n",
      "36         7595         0  Nike   \n",
      "38         8995         0  Nike   \n",
      "..          ...       ...   ...   \n",
      "606        9597         0  Nike   \n",
      "622        7995         0  Nike   \n",
      "634        5247         0  Nike   \n",
      "639        3497         0  Nike   \n",
      "640        5947         0  Nike   \n",
      "\n",
      "                                           description  rating  reviews images  \n",
      "7    The Nike Free Metcon 3 combines Nike Free flex...     5.0        1    NaN  \n",
      "21   The first Nike SB shoe designed specifically f...     4.2        6    NaN  \n",
      "30   Featuring a fixed strap over the top of the fo...     4.2        5    NaN  \n",
      "36   The Nike Air Force 1 '07 LV8 incorporates the ...     5.0        3    NaN  \n",
      "38   Designed specifically for a woman's foot, the ...     1.0        1    NaN  \n",
      "..                                                 ...     ...      ...    ...  \n",
      "606  The Nike Air Max 720 goes bigger than ever bef...     4.9       18    NaN  \n",
      "622  The Nike Air Force 1 '07 SE incorporates the s...     5.0        1    NaN  \n",
      "634  The soft upper of the Nike Mercurial Vapor 13 ...     0.0        0    NaN  \n",
      "639  The Nike Phantom Venom Club IC is engineered f...     0.0        0    NaN  \n",
      "640  The soft upper of the Nike Mercurial Superfly ...     5.0        1    NaN  \n",
      "\n",
      "[71 rows x 10 columns]\n"
     ]
    }
   ],
   "source": [
    "imagenan = df[df.images.isnull()]\n",
    "print(imagenan)"
   ]
  },
  {
   "cell_type": "code",
   "execution_count": null,
   "id": "605be398",
   "metadata": {},
   "outputs": [],
   "source": []
  }
 ],
 "metadata": {
  "kernelspec": {
   "display_name": "Python 3 (ipykernel)",
   "language": "python",
   "name": "python3"
  },
  "language_info": {
   "codemirror_mode": {
    "name": "ipython",
    "version": 3
   },
   "file_extension": ".py",
   "mimetype": "text/x-python",
   "name": "python",
   "nbconvert_exporter": "python",
   "pygments_lexer": "ipython3",
   "version": "3.11.5"
  }
 },
 "nbformat": 4,
 "nbformat_minor": 5
}
